{
 "cells": [
  {
   "cell_type": "markdown",
   "id": "09a2c2c8",
   "metadata": {},
   "source": [
    "# Anime-Recommender-System-Project-2025"
   ]
  },
  {
   "cell_type": "markdown",
   "id": "10df24fe-8de8-4803-b4d3-386634dd1fb2",
   "metadata": {},
   "source": [
    "<center>\n",
    "  <img src='https://mostaql.hsoubcdn.com/uploads/thumbnails/1450164/661a5b0c8a072/dataset-card.jpg'width='700'/>\n",
    "</center>"
   ]
  },
  {
   "cell_type": "markdown",
   "id": "933615d7",
   "metadata": {},
   "source": [
    "# Table of Contents\n",
    "- [1. Project Overview](#1-project-overview)\n",
    "  - [1.1 Introduction](#11-introduction)\n",
    "  - [1.2 Problem Statement](#12-problem-statement)\n",
    "  - [1.3 Objectives](#13-objectives)\n",
    "- [2. Importing Packages](#2-importing-packages)\n",
    "- [3. Loading Data](#3-loading-data)\n",
    "- [4. Data Cleaning](#4-data-cleaning)\n",
    "- [5. Exploratory Data Analysis (EDA)](#5-exploratory-data-analysis-eda)\n",
    "- [6. Preprocessing](#6-preprocessing)\n",
    "- [7. Model Training](#7-model-training)\n",
    "- [8. Model Evaluation](#8-model-evaluation)\n",
    "- [9. Hyperparameter Tuning](#9-hyperparameter-tuning)\n",
    "- [10. Conclusion](#10-conclusion)"
   ]
  },
  {
   "cell_type": "markdown",
   "id": "9e9df305",
   "metadata": {},
   "source": [
    "### 1. Project Overview"
   ]
  },
  {
   "cell_type": "markdown",
   "id": "f63770d0",
   "metadata": {},
   "source": [
    "##### 1.1 Introduction"
   ]
  },
  {
   "cell_type": "code",
   "execution_count": null,
   "id": "1b697802",
   "metadata": {},
   "outputs": [],
   "source": []
  },
  {
   "cell_type": "markdown",
   "id": "0b79db45",
   "metadata": {},
   "source": [
    "##### 1.2 Problem Statement"
   ]
  },
  {
   "cell_type": "code",
   "execution_count": null,
   "id": "d9d4c535",
   "metadata": {},
   "outputs": [],
   "source": []
  },
  {
   "cell_type": "markdown",
   "id": "2764a8b1",
   "metadata": {},
   "source": [
    "##### 1.3 Objectives"
   ]
  },
  {
   "cell_type": "code",
   "execution_count": null,
   "id": "d31f0e61",
   "metadata": {},
   "outputs": [],
   "source": []
  },
  {
   "cell_type": "markdown",
   "id": "5394f142",
   "metadata": {},
   "source": [
    "### 2. Importing Packages"
   ]
  },
  {
   "cell_type": "code",
   "execution_count": 8,
   "id": "33080b44",
   "metadata": {},
   "outputs": [],
   "source": [
    "### Basic libraries\n",
    "import numpy as np\n",
    "import pandas as pd\n",
    "import matplotlib.pyplot as plt\n",
    "%matplotlib inline\n",
    "import pickle\n",
    "import warnings\n",
    "warnings.filterwarnings(action='ignore')"
   ]
  },
  {
   "cell_type": "markdown",
   "id": "f9527246",
   "metadata": {},
   "source": [
    "### 3. Loading Data"
   ]
  },
  {
   "cell_type": "code",
   "execution_count": 10,
   "id": "c8db9c2b",
   "metadata": {},
   "outputs": [],
   "source": [
    "df_train = pd.read_csv('train.csv')\n",
    "df_test = pd.read_csv('test.csv')\n",
    "df_anime = pd.read_csv('anime.csv')\n",
    "df_submission = pd.read_csv('submission.csv')"
   ]
  },
  {
   "cell_type": "markdown",
   "id": "89d482f0",
   "metadata": {},
   "source": [
    "### 4. Data Cleaning"
   ]
  },
  {
   "cell_type": "code",
   "execution_count": null,
   "id": "e697263f",
   "metadata": {},
   "outputs": [],
   "source": []
  },
  {
   "cell_type": "markdown",
   "id": "52f5e7e5",
   "metadata": {},
   "source": [
    "### 5. Exploratory Data Analysis (EDA)"
   ]
  },
  {
   "cell_type": "code",
   "execution_count": null,
   "id": "6c87a289",
   "metadata": {},
   "outputs": [],
   "source": []
  },
  {
   "cell_type": "markdown",
   "id": "1b3c0131-36f0-4836-9e41-87d64c915017",
   "metadata": {},
   "source": [
    "### 6. Preprocessing"
   ]
  },
  {
   "cell_type": "code",
   "execution_count": null,
   "id": "432d3fb9-b159-41ae-8d53-3921b49c5687",
   "metadata": {},
   "outputs": [],
   "source": []
  },
  {
   "cell_type": "markdown",
   "id": "fe246eea",
   "metadata": {},
   "source": [
    "### 7. Model Training"
   ]
  },
  {
   "cell_type": "code",
   "execution_count": null,
   "id": "0b373bc2",
   "metadata": {},
   "outputs": [],
   "source": []
  },
  {
   "cell_type": "markdown",
   "id": "e1fb04af",
   "metadata": {},
   "source": [
    "### 8. Model Evaluation"
   ]
  },
  {
   "cell_type": "code",
   "execution_count": null,
   "id": "a570aa35",
   "metadata": {},
   "outputs": [],
   "source": []
  },
  {
   "cell_type": "markdown",
   "id": "00a89b50-d910-4d95-ba95-c66dec10d6f6",
   "metadata": {},
   "source": [
    "### 9. Hyperparameter Tuning"
   ]
  },
  {
   "cell_type": "code",
   "execution_count": null,
   "id": "67a20f8e-b4a9-45c4-8b01-f8a4e2d37853",
   "metadata": {},
   "outputs": [],
   "source": []
  },
  {
   "cell_type": "markdown",
   "id": "3e05ab9d",
   "metadata": {},
   "source": [
    "### 10. Conclusion"
   ]
  },
  {
   "cell_type": "code",
   "execution_count": null,
   "id": "3f0155c4",
   "metadata": {},
   "outputs": [],
   "source": []
  }
 ],
 "metadata": {
  "kernelspec": {
   "display_name": "Python 3 (ipykernel)",
   "language": "python",
   "name": "python3"
  },
  "language_info": {
   "codemirror_mode": {
    "name": "ipython",
    "version": 3
   },
   "file_extension": ".py",
   "mimetype": "text/x-python",
   "name": "python",
   "nbconvert_exporter": "python",
   "pygments_lexer": "ipython3",
   "version": "3.12.4"
  }
 },
 "nbformat": 4,
 "nbformat_minor": 5
}
